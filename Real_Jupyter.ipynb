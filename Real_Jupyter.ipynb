{
 "cells": [
  {
   "cell_type": "code",
   "execution_count": 30,
   "metadata": {},
   "outputs": [
    {
     "name": "stdout",
     "output_type": "stream",
     "text": [
      "(14493, 80)\n",
      "(14492, 80)\n"
     ]
    }
   ],
   "source": [
    "import numpy as np\n",
    "from sklearn import svm\n",
    "from sklearn import datasets\n",
    "from sklearn import metrics\n",
    "from sklearn import model_selection\n",
    "import matplotlib.pyplot as plt\n",
    "from sklearn.ensemble import RandomForestClassifier\n",
    "from sklearn.naive_bayes import MultinomialNB\n",
    "from sklearn.ensemble import AdaBoostClassifier\n",
    "from sklearn.model_selection import cross_val_score\n",
    "from sklearn.model_selection import GridSearchCV\n",
    "from sklearn.svm import LinearSVC\n",
    "from sklearn.metrics import accuracy_score, precision_score, recall_score, classification_report\n",
    "from sklearn.pipeline import make_pipeline\n",
    "from sklearn.preprocessing import StandardScaler\n",
    "from sklearn.svm import SVC\n",
    "from sklearn.svm import NuSVC\n",
    "\n",
    "import time\n",
    "\n",
    "import pandas as pd\n",
    "import os\n",
    "\n",
    "\n",
    "def read_from_csv(s):\n",
    "    read_path = './DataSets/' + s\n",
    "    data_path = os.path.join(read_path)\n",
    "    df = pd.read_csv(data_path)\n",
    "    df = df.fillna(0)\n",
    "    return df\n",
    "\n",
    "\n",
    "def transfer_to_TrainArray(df):\n",
    "    length = df.shape[0]\n",
    "    width = df.shape[1]\n",
    "    # trainSet contains all data except the class\n",
    "    train_set = np.zeros([length, width - 1])\n",
    "    for i in range(length):\n",
    "        train_set[i] = df.iloc[i, :-1].to_numpy()\n",
    "    return train_set\n",
    "\n",
    "\n",
    "def checkInf(df):\n",
    "    print(df.shape)\n",
    "    length = df.shape[0]\n",
    "    for i in range(length):\n",
    "        currentArray = df.iloc[i, :-1].to_numpy()\n",
    "        arrayLength = len(currentArray)\n",
    "        for element in range(arrayLength):\n",
    "            currElement = currentArray[element]\n",
    "            if currElement == float('inf'):\n",
    "                df = df.drop([i])\n",
    "                #print(i)\n",
    "    print(df.shape)\n",
    "    return df\n",
    "\n",
    "\n",
    "def transfer_to_TestArray(df):\n",
    "    length = df.shape[0]\n",
    "    # trainSet contains all data except the class\n",
    "    test_set = np.zeros(length)\n",
    "    for i in range(length):\n",
    "        if df.iloc[i, -1] == 'benign':\n",
    "            test_set[i] = 1\n",
    "        else:\n",
    "            test_set[i] = 0\n",
    "    return test_set\n",
    "\n",
    "def fittime_precision_recall(classifier, trainx, trainy, xtest, ytest):\n",
    "    start = time.time()\n",
    "    classifier.fit(trainx, trainy)\n",
    "    end = time.time()\n",
    "    precision = precision_score(ytest, classifier.predict(xtest), pos_label = 1)\n",
    "    miss_rate = 1-recall_score(ytest, classifier.predict(xtest), pos_label = 1)\n",
    "    return end-start, precision, miss_rate\n",
    "\n",
    "test_df = read_from_csv('Malware.csv')\n",
    "test_df = checkInf(test_df)\n",
    "trainSet = transfer_to_TrainArray(test_df)\n",
    "testSet = transfer_to_TestArray(test_df)\n",
    "x_train, x_test, y_train, y_test = \\\n",
    "        model_selection.train_test_split(trainSet, testSet, random_state=1, test_size=0.2)"
   ]
  },
  {
   "cell_type": "code",
   "execution_count": 38,
   "metadata": {},
   "outputs": [
    {
     "name": "stdout",
     "output_type": "stream",
     "text": [
      "(5.407882213592529, 0.9776643267389917, 0.009696186166774368)\n",
      "(1.499380350112915, 0.9967616580310881, 0.005171299288946329)\n",
      "(2.773630380630493, 0.9688295165394402, 0.015513897866838988)\n",
      "(27.072172164916992, 0.8757539203860072, 0.061409179056237884)\n",
      "(12.486751556396484, 0.8522792844777842, 0.04524886877828049)\n"
     ]
    }
   ],
   "source": [
    "adaClassifier = AdaBoostClassifier(n_estimators=200, algorithm = 'SAMME.R')\n",
    "rfClassifier = RandomForestClassifier(oob_score=True, random_state=100, max_features = 'sqrt')\n",
    "svcClassifier = make_pipeline(StandardScaler(), SVC(gamma='auto'))\n",
    "linearsvmClassifier = svm.SVC(kernel='linear', gamma=0.1, decision_function_shape='ovo', C=0.1)\n",
    "nusvcClassifier = make_pipeline(StandardScaler(), NuSVC(decision_function_shape = 'ovo'))\n",
    "print(fittime_precision_recall(adaClassifier, x_train, y_train, x_test, y_test))\n",
    "print(fittime_precision_recall(rfClassifier, x_train, y_train, x_test, y_test))\n",
    "print(fittime_precision_recall(svcClassifier, x_train, y_train, x_test, y_test))\n",
    "print(fittime_precision_recall(linearsvmClassifier, x_train, y_train, x_test, y_test))\n",
    "print(fittime_precision_recall(nusvcClassifier, x_train, y_train, x_test, y_test))"
   ]
  }
 ],
 "metadata": {
  "kernelspec": {
   "display_name": "Python 3",
   "language": "python",
   "name": "python3"
  },
  "language_info": {
   "codemirror_mode": {
    "name": "ipython",
    "version": 3
   },
   "file_extension": ".py",
   "mimetype": "text/x-python",
   "name": "python",
   "nbconvert_exporter": "python",
   "pygments_lexer": "ipython3",
   "version": "3.7.6"
  }
 },
 "nbformat": 4,
 "nbformat_minor": 4
}
